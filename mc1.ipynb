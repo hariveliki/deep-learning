{
 "cells": [
  {
   "cell_type": "markdown",
   "metadata": {},
   "source": [
    "# Step 1: Select Task/Dataset\n",
    "I chose Tiny ImageNet, which contains 100000 images of 200 classes (500 for each class) resized to 64x64 color images."
   ]
  },
  {
   "cell_type": "code",
   "execution_count": 2,
   "metadata": {},
   "outputs": [],
   "source": [
    "from datasets import load_dataset\n",
    "from classes import i2d\n",
    "import json"
   ]
  },
  {
   "cell_type": "code",
   "execution_count": 3,
   "metadata": {},
   "outputs": [
    {
     "name": "stderr",
     "output_type": "stream",
     "text": [
      "Found cached dataset parquet (/Users/haris.alic/.cache/huggingface/datasets/Maysee___parquet/Maysee--tiny-imagenet-2eb6c3acd8ebc62a/0.0.0/2a3b91fbd88a2c90d1dbbb32b460cf621d31bd5b05b934492fdef7d8d6f236ec)\n"
     ]
    }
   ],
   "source": [
    "dataset = load_dataset('Maysee/tiny-imagenet', split='train')"
   ]
  },
  {
   "cell_type": "code",
   "execution_count": 4,
   "metadata": {},
   "outputs": [
    {
     "data": {
      "text/plain": [
       "{'image': <PIL.JpegImagePlugin.JpegImageFile image mode=RGB size=64x64>,\n",
       " 'label': 0}"
      ]
     },
     "execution_count": 4,
     "metadata": {},
     "output_type": "execute_result"
    }
   ],
   "source": [
    "dataset[0]"
   ]
  },
  {
   "cell_type": "code",
   "execution_count": 5,
   "metadata": {},
   "outputs": [],
   "source": [
    "with open(\"dataset_infos.json\") as file:\n",
    "    dataset_infos = json.load(file)"
   ]
  },
  {
   "cell_type": "code",
   "execution_count": 6,
   "metadata": {},
   "outputs": [],
   "source": [
    "class_names = dataset_infos[\"Maysee--tiny-imagenet\"][\"features\"][\"label\"][\"names\"]\n",
    "idx2class = {i: class_names[i] for i in range(len(class_names))}"
   ]
  },
  {
   "cell_type": "markdown",
   "metadata": {},
   "source": [
    "# Step 2: Get to know the data\n",
    "The dataset is well balanced and has 500 images for each class"
   ]
  },
  {
   "cell_type": "code",
   "execution_count": 7,
   "metadata": {},
   "outputs": [
    {
     "data": {
      "image/png": "[encoded data removed]",
      "text/plain": [
       "<Figure size 640x480 with 1 Axes>"
      ]
     },
     "metadata": {},
     "output_type": "display_data"
    }
   ],
   "source": [
    "from collections import defaultdict\n",
    "import matplotlib.pyplot as plt\n",
    "\n",
    "class_counts = defaultdict(int)\n",
    "for instance in dataset:\n",
    "    label = instance['label']\n",
    "    class_counts[label] += 1\n",
    "\n",
    "plt.bar(class_counts.keys(), class_counts.values())\n",
    "plt.xlabel('Class')\n",
    "plt.ylabel('Count')\n",
    "plt.title(\"Occurences per class\")\n",
    "plt.show()\n"
   ]
  },
  {
   "cell_type": "markdown",
   "metadata": {},
   "source": [
    "# Step 3: Structure Modeling"
   ]
  },
  {
   "cell_type": "markdown",
   "metadata": {},
   "source": [
    "### Step 3.1 Determine how (with which metrics) you want to evaluate your model. Also, consider the error in estimating the metrics.\n",
    "We will use accuracy to evaluate our model."
   ]
  },
  {
   "cell_type": "markdown",
   "metadata": {},
   "source": [
    "### Step 3.2 Implement basic functionality to train models and evaluate them against each other. It is recommended to use a suitable MLOps platform (e.g. W&B)"
   ]
  },
  {
   "cell_type": "code",
   "execution_count": 7,
   "metadata": {},
   "outputs": [
    {
     "name": "stderr",
     "output_type": "stream",
     "text": [
      "/Users/haris.alic/Dev/github/hariveliki/del/tin.py:8: TqdmExperimentalWarning: Using `tqdm.autonotebook.tqdm` in notebook mode. Use `tqdm.tqdm` instead to force console mode (e.g. in jupyter console)\n",
      "  from tqdm.autonotebook import tqdm\n"
     ]
    }
   ],
   "source": [
    "from tin import TinyImageNetDataset\n",
    "from torch.utils.data import DataLoader\n",
    "from torchvision import transforms, models\n",
    "from sklearn.metrics import precision_score, recall_score, f1_score"
   ]
  },
  {
   "cell_type": "code",
   "execution_count": 8,
   "metadata": {},
   "outputs": [
    {
     "data": {
      "application/vnd.jupyter.widget-view+json": {
       "model_id": "17cef983cf46479b9abc50a2413da6d5",
       "version_major": 2,
       "version_minor": 0
      },
      "text/plain": [
       "Preloading train data...:   0%|          | 0/100000 [00:00<?, ?it/s]"
      ]
     },
     "metadata": {},
     "output_type": "display_data"
    },
    {
     "data": {
      "application/vnd.jupyter.widget-view+json": {
       "model_id": "e1d5222888d24d68aabf0f85ce7e5d9d",
       "version_major": 2,
       "version_minor": 0
      },
      "text/plain": [
       "Preloading val data...:   0%|          | 0/10000 [00:00<?, ?it/s]"
      ]
     },
     "metadata": {},
     "output_type": "display_data"
    },
    {
     "data": {
      "application/vnd.jupyter.widget-view+json": {
       "model_id": "eb4b7426b89142f0a57cae7ff570ae55",
       "version_major": 2,
       "version_minor": 0
      },
      "text/plain": [
       "Preloading test data...:   0%|          | 0/10000 [00:00<?, ?it/s]"
      ]
     },
     "metadata": {},
     "output_type": "display_data"
    }
   ],
   "source": [
    "# Define a custom Dataset class because the dataset from load_dataset() is useless\n",
    "train_data = TinyImageNetDataset(root_dir=\"./data/tiny-imagenet-200\", mode=\"train\")\n",
    "val_data = TinyImageNetDataset(root_dir=\"./data/tiny-imagenet-200\", mode=\"val\")\n",
    "test_data = TinyImageNetDataset(root_dir=\"./data/tiny-imagenet-200\", mode=\"test\")"
   ]
  },
  {
   "cell_type": "code",
   "execution_count": 9,
   "metadata": {},
   "outputs": [
    {
     "name": "stdout",
     "output_type": "stream",
     "text": [
      "train_data size: 100000\n",
      "val_data size: 10000\n",
      "test_data size: 10000\n"
     ]
    }
   ],
   "source": [
    "import torch\n",
    "# reduce the size of train_data by x\n",
    "train_data = torch.utils.data.Subset(train_data, range(0, len(train_data), 1))\n",
    "print(f\"train_data size: {len(train_data)}\")\n",
    "val_data = torch.utils.data.Subset(val_data, range(0, len(val_data), 1))\n",
    "print(f\"val_data size: {len(val_data)}\")\n",
    "test_data = torch.utils.data.Subset(test_data, range(0, len(test_data), 1))\n",
    "print(f\"test_data size: {len(test_data)}\")"
   ]
  },
  {
   "cell_type": "code",
   "execution_count": 10,
   "metadata": {},
   "outputs": [
    {
     "name": "stdout",
     "output_type": "stream",
     "text": [
      "There are 1563 batches in the training set\n",
      "There are 157 batches in the validation set\n"
     ]
    }
   ],
   "source": [
    "BATCH_SIZE = 64\n",
    "train_loader = DataLoader(train_data, batch_size=BATCH_SIZE, shuffle=True)\n",
    "val_loader = DataLoader(val_data, batch_size=BATCH_SIZE, shuffle=True)\n",
    "print(f\"There are {len(train_loader)} batches in the training set\")\n",
    "print(f\"There are {len(val_loader)} batches in the validation set\")"
   ]
  },
  {
   "cell_type": "code",
   "execution_count": 11,
   "metadata": {},
   "outputs": [
    {
     "name": "stdout",
     "output_type": "stream",
     "text": [
      "Using device: mps\n"
     ]
    }
   ],
   "source": [
    "device = None\n",
    "if torch.cuda.is_available():\n",
    "    device = torch.device(\"cuda:0\")\n",
    "elif torch.backends.mps.is_available():\n",
    "    device = torch.device(\"mps\")\n",
    "else:\n",
    "    device = torch.device(\"cpu\")\n",
    "print(f\"Using device: {device}\")"
   ]
  },
  {
   "cell_type": "markdown",
   "metadata": {},
   "source": [
    "## Step 3.2.1: Model"
   ]
  },
  {
   "cell_type": "code",
   "execution_count": 22,
   "metadata": {},
   "outputs": [],
   "source": [
    "import torch.nn as nn\n",
    "import utils\n",
    "from typing import List\n",
    "\n",
    "class CNN_MLP(nn.Module):\n",
    "    def __init__(\n",
    "            self,\n",
    "            dim: int,\n",
    "            num_classes: int,\n",
    "            layers: list,\n",
    "            confs: List[dict],\n",
    "            in_channels: int,\n",
    "            out_channels: int,\n",
    "            dropout=0.5,\n",
    "            weight_init=None):\n",
    "        super(CNN_MLP, self).__init__()\n",
    "\n",
    "        self.net = nn.ModuleList()\n",
    "\n",
    "        for layer, conf in zip(layers, confs):\n",
    "            if layer == \"C\":\n",
    "                self.net.append(\n",
    "                    nn.Conv2d(\n",
    "                        in_channels,\n",
    "                        out_channels,\n",
    "                        kernel_size=conf[\"kernel\"],\n",
    "                        stride=conf[\"stride\"],\n",
    "                        padding=conf[\"padding\"]\n",
    "                    )\n",
    "                )\n",
    "                # self.net.append(nn.BatchNorm2d(out_channels))\n",
    "                self.net.append(nn.ReLU())\n",
    "                self.net.append(nn.BatchNorm2d(out_channels))\n",
    "                in_channels = out_channels\n",
    "                out_channels = conf[\"channels\"]\n",
    "            elif layer == \"P\":\n",
    "                self.net.append(\n",
    "                    nn.MaxPool2d(kernel_size=conf[\"kernel\"])\n",
    "                )\n",
    "        \n",
    "        self.flatten = nn.Flatten()\n",
    "        self.in_channels = in_channels\n",
    "        self.dim = utils.get_dim_after_conv_and_pool(\n",
    "            dim_init=dim,\n",
    "            layers=layers,\n",
    "            confs=confs\n",
    "        )\n",
    "        print(f\"self.dim: {self.dim},\\nself.in_channels: {self.in_channels}\")\n",
    "        self.fc1 = nn.Linear(self.dim * self.dim * self.in_channels, 500)\n",
    "        # self.fc2 = nn.Linear(500, 500)\n",
    "        self.fc3 = nn.Linear(500, num_classes)\n",
    "        self.dropout = nn.Dropout(dropout)\n",
    "\n",
    "\n",
    "    def forward(self, x):\n",
    "        N = x.shape[0]\n",
    "        C, H, W = x.shape[3], x.shape[1], x.shape[2]\n",
    "        x = x.permute(0, 3, 1, 2)  # From (batch_size, H, W, C) to (batch_size, C, H, W)\n",
    "        assert x.shape == (N, C, H, W)\n",
    "        \n",
    "        for layer in self.net:\n",
    "            x = layer(x)\n",
    "\n",
    "        x = self.flatten(x)\n",
    "        x = self.dropout(x)\n",
    "        x = nn.ReLU()(self.fc1(x))\n",
    "        x = self.dropout(x)\n",
    "        x = self.fc3(x)\n",
    "\n",
    "        return x"
   ]
  },
  {
   "cell_type": "markdown",
   "metadata": {},
   "source": [
    "## Hyperparameters"
   ]
  },
  {
   "cell_type": "code",
   "execution_count": 23,
   "metadata": {},
   "outputs": [],
   "source": [
    "EPOCHS = 40\n",
    "BATCH_SIZE = BATCH_SIZE\n",
    "LEARNING_RATE = 0.001\n",
    "SEED = 42\n",
    "WEIGHT_DECAY = None\n",
    "DROPOUT = 0.5\n",
    "BATCH_NORM = True\n",
    "OPTIMIZER = \"Adam\""
   ]
  },
  {
   "cell_type": "markdown",
   "metadata": {},
   "source": [
    "## Step 3.2.2: Model Init"
   ]
  },
  {
   "cell_type": "code",
   "execution_count": 25,
   "metadata": {},
   "outputs": [
    {
     "name": "stdout",
     "output_type": "stream",
     "text": [
      "self.dim: 8,\n",
      "self.in_channels: 128\n",
      "Epochs: 40\n",
      "Batch size: 64\n",
      "Learning rate: 0.001\n",
      "Seed: 42\n",
      "Weight Decay: None\n",
      "Dropout: 0.5\n",
      "Batch Norm: True\n",
      "Optimizer: Adam\n",
      "CNN_MLP(\n",
      "  (net): ModuleList(\n",
      "    (0): Conv2d(3, 16, kernel_size=(3, 3), stride=(1, 1), padding=(1, 1))\n",
      "    (1): ReLU()\n",
      "    (2): BatchNorm2d(16, eps=1e-05, momentum=0.1, affine=True, track_running_stats=True)\n",
      "    (3): Conv2d(16, 16, kernel_size=(3, 3), stride=(1, 1), padding=(1, 1))\n",
      "    (4): ReLU()\n",
      "    (5): BatchNorm2d(16, eps=1e-05, momentum=0.1, affine=True, track_running_stats=True)\n",
      "    (6): MaxPool2d(kernel_size=2, stride=2, padding=0, dilation=1, ceil_mode=False)\n",
      "    (7): Conv2d(16, 32, kernel_size=(3, 3), stride=(1, 1), padding=(1, 1))\n",
      "    (8): ReLU()\n",
      "    (9): BatchNorm2d(32, eps=1e-05, momentum=0.1, affine=True, track_running_stats=True)\n",
      "    (10): Conv2d(32, 64, kernel_size=(3, 3), stride=(1, 1), padding=(1, 1))\n",
      "    (11): ReLU()\n",
      "    (12): BatchNorm2d(64, eps=1e-05, momentum=0.1, affine=True, track_running_stats=True)\n",
      "    (13): MaxPool2d(kernel_size=2, stride=2, padding=0, dilation=1, ceil_mode=False)\n",
      "    (14): Conv2d(64, 64, kernel_size=(3, 3), stride=(1, 1), padding=(1, 1))\n",
      "    (15): ReLU()\n",
      "    (16): BatchNorm2d(64, eps=1e-05, momentum=0.1, affine=True, track_running_stats=True)\n",
      "    (17): Conv2d(64, 128, kernel_size=(3, 3), stride=(1, 1), padding=(1, 1))\n",
      "    (18): ReLU()\n",
      "    (19): BatchNorm2d(128, eps=1e-05, momentum=0.1, affine=True, track_running_stats=True)\n",
      "    (20): MaxPool2d(kernel_size=2, stride=2, padding=0, dilation=1, ceil_mode=False)\n",
      "  )\n",
      "  (flatten): Flatten(start_dim=1, end_dim=-1)\n",
      "  (fc1): Linear(in_features=8192, out_features=500, bias=True)\n",
      "  (fc3): Linear(in_features=500, out_features=200, bias=True)\n",
      "  (dropout): Dropout(p=0.5, inplace=False)\n",
      ")\n",
      "=================================================================\n",
      "Layer (type:depth-idx)                   Param #\n",
      "=================================================================\n",
      "├─ModuleList: 1-1                        --\n",
      "|    └─Conv2d: 2-1                       448\n",
      "|    └─ReLU: 2-2                         --\n",
      "|    └─BatchNorm2d: 2-3                  32\n",
      "|    └─Conv2d: 2-4                       2,320\n",
      "|    └─ReLU: 2-5                         --\n",
      "|    └─BatchNorm2d: 2-6                  32\n",
      "|    └─MaxPool2d: 2-7                    --\n",
      "|    └─Conv2d: 2-8                       4,640\n",
      "|    └─ReLU: 2-9                         --\n",
      "|    └─BatchNorm2d: 2-10                 64\n",
      "|    └─Conv2d: 2-11                      18,496\n",
      "|    └─ReLU: 2-12                        --\n",
      "|    └─BatchNorm2d: 2-13                 128\n",
      "|    └─MaxPool2d: 2-14                   --\n",
      "|    └─Conv2d: 2-15                      36,928\n",
      "|    └─ReLU: 2-16                        --\n",
      "|    └─BatchNorm2d: 2-17                 128\n",
      "|    └─Conv2d: 2-18                      73,856\n",
      "|    └─ReLU: 2-19                        --\n",
      "|    └─BatchNorm2d: 2-20                 256\n",
      "|    └─MaxPool2d: 2-21                   --\n",
      "├─Flatten: 1-2                           --\n",
      "├─Linear: 1-3                            4,096,500\n",
      "├─Linear: 1-4                            100,200\n",
      "├─Dropout: 1-5                           --\n",
      "=================================================================\n",
      "Total params: 4,334,028\n",
      "Trainable params: 4,334,028\n",
      "Non-trainable params: 0\n",
      "=================================================================\n"
     ]
    },
    {
     "data": {
      "text/plain": [
       "=================================================================\n",
       "Layer (type:depth-idx)                   Param #\n",
       "=================================================================\n",
       "├─ModuleList: 1-1                        --\n",
       "|    └─Conv2d: 2-1                       448\n",
       "|    └─ReLU: 2-2                         --\n",
       "|    └─BatchNorm2d: 2-3                  32\n",
       "|    └─Conv2d: 2-4                       2,320\n",
       "|    └─ReLU: 2-5                         --\n",
       "|    └─BatchNorm2d: 2-6                  32\n",
       "|    └─MaxPool2d: 2-7                    --\n",
       "|    └─Conv2d: 2-8                       4,640\n",
       "|    └─ReLU: 2-9                         --\n",
       "|    └─BatchNorm2d: 2-10                 64\n",
       "|    └─Conv2d: 2-11                      18,496\n",
       "|    └─ReLU: 2-12                        --\n",
       "|    └─BatchNorm2d: 2-13                 128\n",
       "|    └─MaxPool2d: 2-14                   --\n",
       "|    └─Conv2d: 2-15                      36,928\n",
       "|    └─ReLU: 2-16                        --\n",
       "|    └─BatchNorm2d: 2-17                 128\n",
       "|    └─Conv2d: 2-18                      73,856\n",
       "|    └─ReLU: 2-19                        --\n",
       "|    └─BatchNorm2d: 2-20                 256\n",
       "|    └─MaxPool2d: 2-21                   --\n",
       "├─Flatten: 1-2                           --\n",
       "├─Linear: 1-3                            4,096,500\n",
       "├─Linear: 1-4                            100,200\n",
       "├─Dropout: 1-5                           --\n",
       "=================================================================\n",
       "Total params: 4,334,028\n",
       "Trainable params: 4,334,028\n",
       "Non-trainable params: 0\n",
       "================================================================="
      ]
     },
     "execution_count": 25,
     "metadata": {},
     "output_type": "execute_result"
    }
   ],
   "source": [
    "import copy\n",
    "from torchsummary import summary\n",
    "import torch.optim as optim\n",
    "torch.manual_seed(SEED)\n",
    "\n",
    "layers = [\"C\", \"C\", \"P\", \"C\", \"C\", \"P\", \"C\", \"C\", \"P\"]\n",
    "confs = [\n",
    "    {\"kernel\": 3, \"stride\": 1, \"padding\": 1, \"channels\": 16},\n",
    "    {\"kernel\": 3, \"stride\": 1, \"padding\": 1, \"channels\": 32},\n",
    "    {\"kernel\": 2},\n",
    "    {\"kernel\": 3, \"stride\": 1, \"padding\": 1, \"channels\": 64},\n",
    "    {\"kernel\": 3, \"stride\": 1, \"padding\": 1, \"channels\": 64},\n",
    "    {\"kernel\": 2},\n",
    "    {\"kernel\": 3, \"stride\": 1, \"padding\": 1, \"channels\": 128},\n",
    "    {\"kernel\": 3, \"stride\": 1, \"padding\": 1, \"channels\": 128},\n",
    "    {\"kernel\": 2},\n",
    "]\n",
    "\n",
    "model = CNN_MLP(\n",
    "    dim=64,\n",
    "    num_classes=200,\n",
    "    layers=layers,\n",
    "    confs=confs,\n",
    "    in_channels=3,\n",
    "    out_channels=16,\n",
    "    dropout=DROPOUT\n",
    ")\n",
    "\n",
    "optimizer = optim.Adam(model.parameters(), lr=LEARNING_RATE)\n",
    "criterion = nn.CrossEntropyLoss()\n",
    "print(f\"Epochs: {EPOCHS}\\nBatch size: {BATCH_SIZE}\\n\\\n",
    "Learning rate: {LEARNING_RATE}\\nSeed: {SEED}\\nWeight Decay: {WEIGHT_DECAY}\\n\\\n",
    "Dropout: {DROPOUT}\\nBatch Norm: {BATCH_NORM}\\nOptimizer: {OPTIMIZER}\")\n",
    "print(model)\n",
    "summary(model)"
   ]
  },
  {
   "cell_type": "markdown",
   "metadata": {},
   "source": [
    "## Step 3.2.3: Model Train"
   ]
  },
  {
   "cell_type": "code",
   "execution_count": 26,
   "metadata": {},
   "outputs": [
    {
     "name": "stdout",
     "output_type": "stream",
     "text": [
      "env: WANDB_SILENT=true\n",
      "env: PYTORCH_ENABLE_MPS_FALLBACK=1\n",
      "|---------------------------| Start Epoch 1: |---------------------------|\n",
      "Train Loss: 5.221913453637219\n",
      "Train Accuracy: 1.096\n",
      "Eval Loss: 5.042434437259747\n",
      "Eval Accuracy: 1.9\n",
      "|---------------------------| Start Epoch 2: |---------------------------|\n",
      "Train Loss: 5.102122197605751\n",
      "Train Accuracy: 1.419\n",
      "Eval Loss: 4.910566876648338\n",
      "Eval Accuracy: 2.88\n",
      "|---------------------------| Start Epoch 3: |---------------------------|\n",
      "Train Loss: 5.010724197651283\n",
      "Train Accuracy: 1.905\n",
      "Eval Loss: 4.786122136814579\n",
      "Eval Accuracy: 3.99\n",
      "|---------------------------| Start Epoch 4: |---------------------------|\n",
      "Train Loss: 4.919468417811379\n",
      "Train Accuracy: 2.563\n",
      "Eval Loss: 4.629715615776694\n",
      "Eval Accuracy: 5.46\n",
      "|---------------------------| Start Epoch 5: |---------------------------|\n",
      "Train Loss: 4.787711892155448\n",
      "Train Accuracy: 3.487\n",
      "Eval Loss: 4.484924143287027\n",
      "Eval Accuracy: 6.94\n",
      "|---------------------------| Start Epoch 6: |---------------------------|\n",
      "Train Loss: 4.530812375604992\n",
      "Train Accuracy: 6.061\n",
      "Eval Loss: 4.008611366247675\n",
      "Eval Accuracy: 12.3\n",
      "|---------------------------| Start Epoch 7: |---------------------------|\n",
      "Train Loss: 4.085776653796224\n",
      "Train Accuracy: 11.582\n",
      "Eval Loss: 3.7057516073725028\n",
      "Eval Accuracy: 17.63\n",
      "|---------------------------| Start Epoch 8: |---------------------------|\n",
      "Train Loss: 3.7705499588947453\n",
      "Train Accuracy: 16.442\n",
      "Eval Loss: 3.416867901565163\n",
      "Eval Accuracy: 22.69\n",
      "|---------------------------| Start Epoch 9: |---------------------------|\n",
      "Train Loss: 3.553404693182508\n",
      "Train Accuracy: 20.108\n",
      "Eval Loss: 3.2699485903332945\n",
      "Eval Accuracy: 25.84\n",
      "|---------------------------| Start Epoch 10: |---------------------------|\n",
      "Train Loss: 3.3818498396065015\n",
      "Train Accuracy: 22.73\n",
      "Eval Loss: 3.1553223983497376\n",
      "Eval Accuracy: 27.39\n",
      "|---------------------------| Start Epoch 11: |---------------------------|\n",
      "Train Loss: 3.2412042816098654\n",
      "Train Accuracy: 25.261\n",
      "Eval Loss: 3.093601304254714\n",
      "Eval Accuracy: 29.05\n",
      "|---------------------------| Start Epoch 12: |---------------------------|\n",
      "Train Loss: 3.1218680586482344\n",
      "Train Accuracy: 27.365\n",
      "Eval Loss: 2.9897851959155624\n",
      "Eval Accuracy: 30.61\n",
      "|---------------------------| Start Epoch 13: |---------------------------|\n",
      "Train Loss: 3.0119737887794362\n",
      "Train Accuracy: 29.336\n",
      "Eval Loss: 2.967899235950154\n",
      "Eval Accuracy: 30.87\n",
      "|---------------------------| Start Epoch 14: |---------------------------|\n",
      "Train Loss: 2.9302068742055276\n",
      "Train Accuracy: 30.745\n",
      "Eval Loss: 2.9132650126317503\n",
      "Eval Accuracy: 32.32\n",
      "|---------------------------| Start Epoch 15: |---------------------------|\n",
      "Train Loss: 2.8438761378432877\n",
      "Train Accuracy: 32.239\n",
      "Eval Loss: 2.8884198346715064\n",
      "Eval Accuracy: 33.2\n",
      "|---------------------------| Start Epoch 16: |---------------------------|\n",
      "Train Loss: 2.7638717176665577\n",
      "Train Accuracy: 33.612\n",
      "Eval Loss: 2.8757282685322365\n",
      "Eval Accuracy: 33.29\n",
      "|---------------------------| Start Epoch 17: |---------------------------|\n",
      "Train Loss: 2.6906113285936\n",
      "Train Accuracy: 35.046\n",
      "Eval Loss: 2.861715067723754\n",
      "Eval Accuracy: 33.46\n",
      "|---------------------------| Start Epoch 18: |---------------------------|\n",
      "Train Loss: 2.6253513375384183\n",
      "Train Accuracy: 36.182\n",
      "Eval Loss: 2.844556740135144\n",
      "Eval Accuracy: 34.19\n",
      "|---------------------------| Start Epoch 19: |---------------------------|\n",
      "Train Loss: 2.56276919371946\n",
      "Train Accuracy: 37.253\n",
      "Eval Loss: 2.8212877716987754\n",
      "Eval Accuracy: 34.08\n",
      "|---------------------------| Start Epoch 20: |---------------------------|\n",
      "Train Loss: 2.5023580887953747\n",
      "Train Accuracy: 38.189\n",
      "Eval Loss: 2.8144582289799005\n",
      "Eval Accuracy: 34.13\n",
      "|---------------------------| Start Epoch 21: |---------------------------|\n",
      "Train Loss: 2.4461855475748493\n",
      "Train Accuracy: 39.18\n",
      "Eval Loss: 2.79072164274325\n",
      "Eval Accuracy: 35.42\n",
      "|---------------------------| Start Epoch 22: |---------------------------|\n",
      "Train Loss: 2.394335173904629\n",
      "Train Accuracy: 40.281\n",
      "Eval Loss: 2.851527634699633\n",
      "Eval Accuracy: 33.97\n",
      "|---------------------------| Start Epoch 23: |---------------------------|\n",
      "Train Loss: 2.3523925614524788\n",
      "Train Accuracy: 40.965\n",
      "Eval Loss: 2.864841470293179\n",
      "Eval Accuracy: 33.36\n",
      "|---------------------------| Start Epoch 24: |---------------------------|\n",
      "Train Loss: 2.3047462482903907\n",
      "Train Accuracy: 41.884\n",
      "Eval Loss: 2.807154822501407\n",
      "Eval Accuracy: 34.51\n",
      "|---------------------------| Start Epoch 25: |---------------------------|\n",
      "Train Loss: 2.2593243967167322\n",
      "Train Accuracy: 42.746\n",
      "Eval Loss: 2.805501319800213\n",
      "Eval Accuracy: 34.55\n",
      "|---------------------------| Start Epoch 26: |---------------------------|\n",
      "Train Loss: 2.2207855272201567\n",
      "Train Accuracy: 43.592\n",
      "Eval Loss: 2.801990715561399\n",
      "Eval Accuracy: 34.68\n",
      "|---------------------------| Start Epoch 27: |---------------------------|\n",
      "Train Loss: 2.1872322698167252\n",
      "Train Accuracy: 44.051\n",
      "Eval Loss: 2.8470746559701907\n",
      "Eval Accuracy: 34.49\n",
      "|---------------------------| Start Epoch 28: |---------------------------|\n",
      "Train Loss: 2.1581719439531546\n",
      "Train Accuracy: 44.749\n",
      "Eval Loss: 2.7840312438406003\n",
      "Eval Accuracy: 35.51\n",
      "|---------------------------| Start Epoch 29: |---------------------------|\n",
      "Train Loss: 2.1145597340125573\n",
      "Train Accuracy: 45.628\n",
      "Eval Loss: 2.849294056558305\n",
      "Eval Accuracy: 34.8\n",
      "|---------------------------| Start Epoch 30: |---------------------------|\n",
      "Train Loss: 2.089326157603444\n",
      "Train Accuracy: 45.921\n",
      "Eval Loss: 2.8079074264331987\n",
      "Eval Accuracy: 34.91\n",
      "|---------------------------| Start Epoch 31: |---------------------------|\n",
      "Train Loss: 2.0568058290926983\n",
      "Train Accuracy: 46.725\n",
      "Eval Loss: 2.80891836524769\n",
      "Eval Accuracy: 35.0\n",
      "|---------------------------| Start Epoch 32: |---------------------------|\n",
      "Train Loss: 2.0255169225517022\n",
      "Train Accuracy: 47.303\n",
      "Eval Loss: 2.832451765704307\n",
      "Eval Accuracy: 35.48\n",
      "|---------------------------| Start Epoch 33: |---------------------------|\n",
      "Train Loss: 1.9917106195206986\n",
      "Train Accuracy: 47.982\n",
      "Eval Loss: 2.843949840326977\n",
      "Eval Accuracy: 34.96\n",
      "|---------------------------| Start Epoch 34: |---------------------------|\n",
      "Train Loss: 1.973625848862275\n",
      "Train Accuracy: 48.262\n",
      "Eval Loss: 2.8177614819472003\n",
      "Eval Accuracy: 35.02\n",
      "|---------------------------| Start Epoch 35: |---------------------------|\n",
      "Train Loss: 1.9469756154928617\n",
      "Train Accuracy: 48.961\n",
      "Eval Loss: 2.832014489325748\n",
      "Eval Accuracy: 35.53\n",
      "|---------------------------| Start Epoch 36: |---------------------------|\n",
      "Train Loss: 1.9266024432880942\n",
      "Train Accuracy: 49.317\n",
      "Eval Loss: 2.904072758498465\n",
      "Eval Accuracy: 34.31\n",
      "|---------------------------| Start Epoch 37: |---------------------------|\n",
      "Train Loss: 1.906715323432317\n",
      "Train Accuracy: 49.779\n",
      "Eval Loss: 2.8672369012407435\n",
      "Eval Accuracy: 35.04\n",
      "|---------------------------| Start Epoch 38: |---------------------------|\n",
      "Train Loss: 1.8819065527967818\n",
      "Train Accuracy: 50.319\n",
      "Eval Loss: 2.825311663803781\n",
      "Eval Accuracy: 35.34\n",
      "|---------------------------| Start Epoch 39: |---------------------------|\n",
      "Train Loss: 1.8665697554022702\n",
      "Train Accuracy: 50.591\n",
      "Eval Loss: 2.831348892989432\n",
      "Eval Accuracy: 35.04\n",
      "|---------------------------| Start Epoch 40: |---------------------------|\n",
      "Train Loss: 1.8407213312650597\n",
      "Train Accuracy: 50.784\n",
      "Eval Loss: 2.8590411167995184\n",
      "Eval Accuracy: 35.41\n"
     ]
    },
    {
     "name": "stderr",
     "output_type": "stream",
     "text": [
      "wandb: WARNING Source type is set to 'repo' but some required information is missing from the environment. A job will not be created from this run. See https://docs.wandb.ai/guides/launch/create-job\n"
     ]
    }
   ],
   "source": [
    "import wandb\n",
    "%env WANDB_SILENT=true\n",
    "%env PYTORCH_ENABLE_MPS_FALLBACK=1\n",
    "try:\n",
    "    wandb.login()\n",
    "    wandb.init(project=\"del\",\n",
    "               entity=\"hariveliki\")\n",
    "    wandb.define_metric(\"epoch\")\n",
    "    wandb.define_metric(\"loss_train\", step_metric=\"epoch\")\n",
    "    wandb.define_metric(\"loss_eval\", step_metric=\"epoch\")\n",
    "    wandb.define_metric(\"train_accuracy\", step_metric=\"epoch\")\n",
    "    wandb.define_metric(\"eval_accuracy\", step_metric=\"epoch\")\n",
    "    wandb.define_metric(\"f1_macro\", step_metric=\"epoch\")\n",
    "    wandb.define_metric(\"precision\", step_metric=\"epoch\")\n",
    "    wandb.define_metric(\"recall\", step_metric=\"epoch\")\n",
    "\n",
    "    model.to(device)\n",
    "    for epoch in range(1, EPOCHS+1):\n",
    "        print(f\"|---------------------------| Start Epoch {epoch}: |---------------------------|\")\n",
    "        loss_train = 0\n",
    "        total = 0\n",
    "        correct = 0\n",
    "        model.train()\n",
    "        for n, batch in enumerate(train_loader):\n",
    "            imgs = batch[\"image\"]\n",
    "            imgs = imgs.to(device)\n",
    "            labels = batch[\"label\"]\n",
    "            labels = labels.to(device)\n",
    "\n",
    "            # Forward pass\n",
    "            labels = labels.long()\n",
    "            logits = model(imgs)\n",
    "            preds = nn.functional.softmax(logits, dim=1)\n",
    "            loss = criterion(logits, labels)\n",
    "            loss_train += loss.item()\n",
    "            predicted = preds.argmax(1)\n",
    "            total += labels.size(0)\n",
    "            correct += (predicted == labels).sum().item()\n",
    "\n",
    "            # Backward pass\n",
    "            optimizer.zero_grad()\n",
    "            loss.backward()\n",
    "            optimizer.step()\n",
    "        loss_train /= len(train_loader)\n",
    "        train_accuracy = 100 * correct / total\n",
    "        print(f\"Train Loss: {loss_train}\")\n",
    "        print(f\"Train Accuracy: {train_accuracy}\")\n",
    "\n",
    "        correct = 0\n",
    "        total = 0\n",
    "        loss_eval = 0\n",
    "        model.eval()\n",
    "        for n, batch in enumerate(val_loader):\n",
    "            imgs = batch[\"image\"]\n",
    "            imgs = imgs.to(device)\n",
    "            labels = batch[\"label\"]\n",
    "            labels = labels.to(device)\n",
    "\n",
    "            # Forward pass\n",
    "            labels = labels.long()\n",
    "            logits = model(imgs)\n",
    "            preds = nn.functional.softmax(logits, dim=1)\n",
    "            loss_eval += criterion(logits, labels).item()\n",
    "            predicted = preds.argmax(1)\n",
    "            total += labels.size(0)\n",
    "            correct += (predicted == labels).sum().item()\n",
    "\n",
    "        loss_eval /= len(val_loader)\n",
    "        eval_accuracy = 100 * correct / total\n",
    "        print(f\"Eval Loss: {loss_eval}\")\n",
    "        print(f\"Eval Accuracy: {eval_accuracy}\")\n",
    "        wandb.log(\n",
    "            {\n",
    "                \"epoch\": epoch,\n",
    "                \"loss_train\": loss_train,\n",
    "                \"loss_eval\": loss_eval,\n",
    "                \"train_accuracy\": train_accuracy,\n",
    "                \"eval_accuracy\": eval_accuracy\n",
    "            }\n",
    "        )\n",
    "\n",
    "    wandb.finish()\n",
    "\n",
    "except Exception as e:\n",
    "    wandb.finish()\n",
    "    raise e\n",
    "\n",
    "except KeyboardInterrupt:\n",
    "    wandb.finish()\n",
    "    raise KeyboardInterrupt"
   ]
  },
  {
   "cell_type": "markdown",
   "metadata": {},
   "source": [
    "# Step 4: Evaluation"
   ]
  },
  {
   "cell_type": "markdown",
   "metadata": {},
   "source": [
    "## SGD\n",
    "After finding a working learning rate, we train with the entire data set and only with SGD given the architecture below.  \n",
    "We see an increasing eval loss after few epochs which indicates overfitting.  \n",
    "\n",
    "Architecture:  \n",
    "3x3 conv, 16  \n",
    "pool, 2/  \n",
    "3x3 conv, 32  \n",
    "pool, 2/  \n",
    "\n",
    "fc 500  \n",
    "fc 500  \n",
    "fc 200  \n",
    "\n",
    "<img src=\"plots/3_loss_train_eval.png\" width=\"800\" height=\"500\">\n",
    "<img src=\"plots/3_acc_train_eval.png\" width=\"800\" height=\"500\">"
   ]
  },
  {
   "cell_type": "markdown",
   "metadata": {},
   "source": [
    "## Stride\n",
    "We introduced Stride within the convolutions to reduce the number of parameters and decrease the distance between train and evaluation loss.  \n",
    "The introduction of Stride resulted in better performance than before, but still overfitting between 5 and 10 epochs.  \n",
    "In hindsight, it was the wrong decision to introduce Stride into the convolutions, as there was already a pooling layer performing the same dimensionality reduction task.  \n",
    "It was no longer possible to increase the size of the architecture.  \n",
    "In later architecture decisions, we only used pooling without stride in the convolutions.  \n",
    "\n",
    "Architecture:  \n",
    "3x3 conv, 16  (stride)  \n",
    "pool, 2/  \n",
    "3x3 conv, 32  (stride)  \n",
    "pool, 2/  \n",
    "\n",
    "fc 500  \n",
    "fc 500  \n",
    "fc 200  \n",
    "\n",
    "<img src=\"plots/4_loss_train_eval.png\" width=\"800\" height=\"500\">\n",
    "<img src=\"plots/4_acc_train_eval.png\" width=\"800\" height=\"500\">"
   ]
  },
  {
   "cell_type": "markdown",
   "metadata": {},
   "source": [
    "## Padding and Stride\n",
    "Based on the same architecture as before with stride we added padding which pads the input volume with zeros around the border.  \n",
    "Therefore we preserve the spatial dimension from decreasing and keep as much information about the original input volume as possible, so that we can extract those low level features.  \n",
    "We see a better performance than before and overfitting only after 10 epochs.  \n",
    "\n",
    "Architecture:  \n",
    "3x3 conv, 16  (stride, padding)  \n",
    "pool, 2/  \n",
    "3x3 conv, 32  (stride, padding)  \n",
    "pool, 2/  \n",
    "\n",
    "fc 500  \n",
    "fc 500  \n",
    "fc 200 \n",
    "\n",
    "<img src=\"plots/5_loss_train_eval.png\" width=\"800\" height=\"500\">\n",
    "<img src=\"plots/5_acc_train_eval.png\" width=\"800\" height=\"500\">"
   ]
  },
  {
   "cell_type": "markdown",
   "metadata": {},
   "source": [
    "## New Architecture\n",
    "After discussions with the expert, we changed the architecture and used more convolution layers and reduced the number of fully connected layers.  \n",
    "We also removed the stride from the convolution layers this time and kept the padding.  \n",
    "This architecture defined our new baseline.  \n",
    "As we now had many more parameters due to the increase in convolution layers, overfitting occurred again very quickly.  \n",
    "\n",
    "Architecture:  \n",
    "3x3 conv, 16  \n",
    "3x3 conv, 32  \n",
    "pool, 2/  \n",
    "3x3 conv, 64  \n",
    "3x3 conv, 64  \n",
    "pool, 2/  \n",
    "3x3 conv, 128  \n",
    "3x3 conv, 128  \n",
    "pool, 2/  \n",
    "\n",
    "fc 500  \n",
    "fc 200  \n",
    "\n",
    "<img src=\"plots/6_loss_train_eval.png\" width=\"800\" height=\"500\">\n",
    "<img src=\"plots/6_acc_train_eval.png\" width=\"800\" height=\"500\">"
   ]
  },
  {
   "cell_type": "markdown",
   "metadata": {},
   "source": [
    "## L2 Regularization\n",
    "We tried l2 aka weight decay regularization to reduce overfitting.  \n",
    "But comparing the previous result with the regularization, we don't see much difference.  \n",
    "\n",
    "Architecture:  \n",
    "3x3 conv, 16  \n",
    "3x3 conv, 32  \n",
    "pool, 2/  \n",
    "3x3 conv, 64  \n",
    "3x3 conv, 64  \n",
    "pool, 2/  \n",
    "3x3 conv, 128  \n",
    "3x3 conv, 128  \n",
    "pool, 2/  \n",
    "\n",
    "fc 500  \n",
    "fc 200  \n",
    "\n",
    "<img src=\"plots/7_6_loss_train_eval.png\" width=\"800\" height=\"500\">\n",
    "<img src=\"plots/7_6_acc_train_eval.png\" width=\"800\" height=\"500\">"
   ]
  },
  {
   "cell_type": "markdown",
   "metadata": {},
   "source": [
    "## Dropout\n",
    "Using another regularization technique called dropout gave us much better results.  \n",
    "We see overfitting only after 20 epochs.  \n",
    "The green curves are with l2 regularization and the orange curves are with dropout.  \n",
    "\n",
    "Architecture:  \n",
    "3x3 conv, 16  \n",
    "3x3 conv, 32  \n",
    "pool, 2/  \n",
    "3x3 conv, 64  \n",
    "3x3 conv, 64  \n",
    "pool, 2/  \n",
    "3x3 conv, 128  \n",
    "3x3 conv, 128  \n",
    "pool, 2/  \n",
    "\n",
    "dropout\n",
    "fc 500  \n",
    "dropout   \n",
    "fc 200  \n",
    "\n",
    "<img src=\"plots/8_7_loss_train_eval.png\" width=\"800\" height=\"500\">\n",
    "<img src=\"plots/8_7_acc_train_eval.png\" width=\"800\" height=\"500\">"
   ]
  },
  {
   "cell_type": "markdown",
   "metadata": {},
   "source": [
    "## Batch Norm\n",
    "Now we have tried batch norm and investigated how it affects the performance of the model.  \n",
    "It resulted in faster and lower losses and higher accuracy compared to dropout, but was not as good at generalizing to unseen data.  \n",
    "The red curves are with dropout and the orange curves are with batch norm.  \n",
    "\n",
    "Architecture:  \n",
    "3x3 conv, 16  (batchnorm)  \n",
    "3x3 conv, 32  (batchnorm)  \n",
    "pool, 2/  \n",
    "3x3 conv, 64  (batchnorm)  \n",
    "3x3 conv, 64  (batchnorm)  \n",
    "pool, 2/  \n",
    "3x3 conv, 128  (batchnorm)  \n",
    "3x3 conv, 128  (batchnorm)  \n",
    "pool, 2/  \n",
    "\n",
    "fc 500  \n",
    "fc 200  \n",
    "\n",
    "<img src=\"plots/8_loss_train_eval.png\" width=\"800\" height=\"500\">\n",
    "<img src=\"plots/8_acc_train_eval.png\" width=\"800\" height=\"500\">"
   ]
  },
  {
   "cell_type": "markdown",
   "metadata": {},
   "source": [
    "##  Dropout and Batch Norm  \n",
    "Drop out and batch norm combined gave us the best result so far.  \n",
    "The loss curves and the small gap between eval and train indicate that we could run more epochs and get even better results.  \n",
    "\n",
    "Architecture:  \n",
    "3x3 conv, 16  (batchnorm)  \n",
    "3x3 conv, 32  (batchnorm)  \n",
    "pool, 2/  \n",
    "3x3 conv, 64  (batchnorm)  \n",
    "3x3 conv, 64  (batchnorm)  \n",
    "pool, 2/  \n",
    "3x3 conv, 128  (batchnorm)  \n",
    "3x3 conv, 128  (batchnorm)  \n",
    "pool, 2/   \n",
    "\n",
    "dropout  \n",
    "fc 500  \n",
    "dropout   \n",
    "fc 200  \n",
    "\n",
    "<img src=\"plots/8_do_bn_loss_train_eval.png\" width=800 height=500>\n",
    "<img src=\"plots/8_do_bn_acc_train_eval.png\" width=800 height=500>"
   ]
  },
  {
   "cell_type": "markdown",
   "metadata": {},
   "source": [
    "## Adam Optimizer\n",
    "Finally using Adam as optimizer lead to a much faster convergence, we achieved better results in less epochs.  \n",
    "We could stop the training after 15 epochs and still get better results than before.  \n",
    "\n",
    "Architecture:  \n",
    "3x3 conv, 16  (batchnorm)  \n",
    "3x3 conv, 32  (batchnorm)  \n",
    "pool, 2/  \n",
    "3x3 conv, 64  (batchnorm)  \n",
    "3x3 conv, 64  (batchnorm)  \n",
    "pool, 2/  \n",
    "3x3 conv, 128  (batchnorm)  \n",
    "3x3 conv, 128  (batchnorm)  \n",
    "pool, 2/   \n",
    "\n",
    "dropout  \n",
    "fc 500  \n",
    "dropout   \n",
    "fc 200  \n",
    "\n",
    "<img src=\"plots/9_8_loss_train_eval.png\" width=\"800\" height=\"500\">\n",
    "<img src=\"plots/9_8_acc_train_eval.png\" width=\"800\" height=\"500\">"
   ]
  },
  {
   "cell_type": "markdown",
   "metadata": {},
   "source": []
  }
 ],
 "metadata": {
  "kernelspec": {
   "display_name": "del",
   "language": "python",
   "name": "python3"
  },
  "language_info": {
   "codemirror_mode": {
    "name": "ipython",
    "version": 3
   },
   "file_extension": ".py",
   "mimetype": "text/x-python",
   "name": "python",
   "nbconvert_exporter": "python",
   "pygments_lexer": "ipython3",
   "version": "3.10.13"
  },
  "orig_nbformat": 4
 },
 "nbformat": 4,
 "nbformat_minor": 2
}
